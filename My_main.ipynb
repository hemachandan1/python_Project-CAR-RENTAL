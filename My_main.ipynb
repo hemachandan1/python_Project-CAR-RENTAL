{
 "cells": [
  {
   "cell_type": "code",
   "execution_count": 1,
   "id": "caf8b5ac-41a9-479b-ad97-2ff38ef1c961",
   "metadata": {
    "editable": true,
    "slideshow": {
     "slide_type": ""
    },
    "tags": []
   },
   "outputs": [],
   "source": [
    "from My_car_rental import Carrental, Customer"
   ]
  },
  {
   "cell_type": "code",
   "execution_count": 2,
   "id": "a6b1a9e3-6031-439b-b6c8-1050f6afbfd6",
   "metadata": {
    "editable": true,
    "slideshow": {
     "slide_type": ""
    },
    "tags": []
   },
   "outputs": [],
   "source": [
    "def main():\n",
    "    rental_shop = Carrental(100)\n",
    "    customer = Customer()\n",
    "\n",
    "    while True:\n",
    "        print(\"\"\"\n",
    "        ====== Car Rental shop ========\n",
    "        1. Display avilable cars\n",
    "        2. Rent a car on hourly basis Rs.100/hour\n",
    "        3. Rent a car on daily basis Rs.500/day\n",
    "        4. Rent a car on weekly basis Rs.3000/week\n",
    "        5. return a car\n",
    "        6. Exit\n",
    "        \"\"\")\n",
    "        choice =input(\"Enter your choice:\")\n",
    "\n",
    "        try:\n",
    "            choice = int(choice)\n",
    "        except ValueError:\n",
    "            print (\"Invalid input. please enter between 1 and 6.\")\n",
    "            continue\n",
    "        if choice == 1:\n",
    "            rental_shop.display_cars()\n",
    "        elif choice == 2:\n",
    "            customer.rental_time,customer.rental_duration = rental_shop.hourly_rental(customer.request_car(), customer.request_duration())\n",
    "        elif choice == 3:\n",
    "            customer.rental_time,customer.rental_duration = rental_shop.daily_rental(customer.request_car(), customer.request_duration())\n",
    "        elif choice == 4:\n",
    "            customer.rental_time,customer.rental_duration = rental_shop.weekly_rental(customer.request_car(), customer.request_duration())\n",
    "        elif choice == 5:\n",
    "            request = customer.return_car()\n",
    "            rental_shop.return_car(request)\n",
    "            customer.rental_basis, customer.rental_time, customer.rental_duration, customer.cars = 0, None, 0, 0\n",
    "        elif choice == 6:\n",
    "            break\n",
    "        else:\n",
    "            print(\"Invalid input!, please enter between 1 and 6.\")\n",
    "        \n",
    "        \n",
    "        "
   ]
  },
  {
   "cell_type": "code",
   "execution_count": 4,
   "id": "41e5c20c-edc5-4c4a-b4bc-832d65111bea",
   "metadata": {
    "editable": true,
    "slideshow": {
     "slide_type": ""
    },
    "tags": []
   },
   "outputs": [
    {
     "name": "stdout",
     "output_type": "stream",
     "text": [
      "\n",
      "        ====== Car Rental shop ========\n",
      "        1. Display avilable cars\n",
      "        2. Rent a car on hourly basis Rs.100/hour\n",
      "        3. Rent a car on daily basis Rs.500/day\n",
      "        4. Rent a car on weekly basis Rs.3000/week\n",
      "        5. return a car\n",
      "        6. Exit\n",
      "        \n"
     ]
    },
    {
     "name": "stdin",
     "output_type": "stream",
     "text": [
      "Enter your choice: 1\n"
     ]
    },
    {
     "name": "stdout",
     "output_type": "stream",
     "text": [
      "We have 100 cars avilable for rent.\n",
      "\n",
      "        ====== Car Rental shop ========\n",
      "        1. Display avilable cars\n",
      "        2. Rent a car on hourly basis Rs.100/hour\n",
      "        3. Rent a car on daily basis Rs.500/day\n",
      "        4. Rent a car on weekly basis Rs.3000/week\n",
      "        5. return a car\n",
      "        6. Exit\n",
      "        \n"
     ]
    },
    {
     "name": "stdin",
     "output_type": "stream",
     "text": [
      "Enter your choice: 2\n",
      "how many cars would you like to rent? 3\n",
      "For how long would you like to rent the cars (in hours/days/weeks)?  3\n"
     ]
    },
    {
     "name": "stdout",
     "output_type": "stream",
     "text": [
      "\n",
      "        ====== Car Rental shop ========\n",
      "        1. Display avilable cars\n",
      "        2. Rent a car on hourly basis Rs.100/hour\n",
      "        3. Rent a car on daily basis Rs.500/day\n",
      "        4. Rent a car on weekly basis Rs.3000/week\n",
      "        5. return a car\n",
      "        6. Exit\n",
      "        \n"
     ]
    },
    {
     "name": "stdin",
     "output_type": "stream",
     "text": [
      "Enter your choice: 1\n"
     ]
    },
    {
     "name": "stdout",
     "output_type": "stream",
     "text": [
      "We have 97 cars avilable for rent.\n",
      "\n",
      "        ====== Car Rental shop ========\n",
      "        1. Display avilable cars\n",
      "        2. Rent a car on hourly basis Rs.100/hour\n",
      "        3. Rent a car on daily basis Rs.500/day\n",
      "        4. Rent a car on weekly basis Rs.3000/week\n",
      "        5. return a car\n",
      "        6. Exit\n",
      "        \n"
     ]
    },
    {
     "name": "stdin",
     "output_type": "stream",
     "text": [
      "Enter your choice: 3\n",
      "how many cars would you like to rent? 4\n",
      "For how long would you like to rent the cars (in hours/days/weeks)?  4\n"
     ]
    },
    {
     "name": "stdout",
     "output_type": "stream",
     "text": [
      "\n",
      "        ====== Car Rental shop ========\n",
      "        1. Display avilable cars\n",
      "        2. Rent a car on hourly basis Rs.100/hour\n",
      "        3. Rent a car on daily basis Rs.500/day\n",
      "        4. Rent a car on weekly basis Rs.3000/week\n",
      "        5. return a car\n",
      "        6. Exit\n",
      "        \n"
     ]
    },
    {
     "name": "stdin",
     "output_type": "stream",
     "text": [
      "Enter your choice: 4\n",
      "how many cars would you like to rent? 6\n",
      "For how long would you like to rent the cars (in hours/days/weeks)?  4\n"
     ]
    },
    {
     "name": "stdout",
     "output_type": "stream",
     "text": [
      "\n",
      "        ====== Car Rental shop ========\n",
      "        1. Display avilable cars\n",
      "        2. Rent a car on hourly basis Rs.100/hour\n",
      "        3. Rent a car on daily basis Rs.500/day\n",
      "        4. Rent a car on weekly basis Rs.3000/week\n",
      "        5. return a car\n",
      "        6. Exit\n",
      "        \n"
     ]
    },
    {
     "name": "stdin",
     "output_type": "stream",
     "text": [
      "Enter your choice: 5\n"
     ]
    },
    {
     "name": "stdout",
     "output_type": "stream",
     "text": [
      "Are you shure you have rented car with us?\n",
      "\n",
      "        ====== Car Rental shop ========\n",
      "        1. Display avilable cars\n",
      "        2. Rent a car on hourly basis Rs.100/hour\n",
      "        3. Rent a car on daily basis Rs.500/day\n",
      "        4. Rent a car on weekly basis Rs.3000/week\n",
      "        5. return a car\n",
      "        6. Exit\n",
      "        \n"
     ]
    },
    {
     "name": "stdin",
     "output_type": "stream",
     "text": [
      "Enter your choice: 6\n"
     ]
    }
   ],
   "source": [
    " if __name__ == \"__main__\":\n",
    "    main()"
   ]
  },
  {
   "cell_type": "code",
   "execution_count": null,
   "id": "47a46b46-8718-4730-89ab-d2cc3b269948",
   "metadata": {},
   "outputs": [],
   "source": []
  }
 ],
 "metadata": {
  "kernelspec": {
   "display_name": "Python 3 (ipykernel)",
   "language": "python",
   "name": "python3"
  },
  "language_info": {
   "codemirror_mode": {
    "name": "ipython",
    "version": 3
   },
   "file_extension": ".py",
   "mimetype": "text/x-python",
   "name": "python",
   "nbconvert_exporter": "python",
   "pygments_lexer": "ipython3",
   "version": "3.13.5"
  }
 },
 "nbformat": 4,
 "nbformat_minor": 5
}
